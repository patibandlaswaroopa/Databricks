{
 "cells": [
  {
   "cell_type": "code",
   "execution_count": 0,
   "metadata": {
    "application/vnd.databricks.v1+cell": {
     "cellMetadata": {
      "byteLimit": 2048000,
      "rowLimit": 10000
     },
     "inputWidgets": {},
     "nuid": "8a15a21b-b85d-4220-b5cc-ca177ce2094f",
     "showTitle": true,
     "title": "ACTIONS"
    }
   },
   "outputs": [],
   "source": [
    "from pyspark.sql import SparkSession\n",
    "spark = SparkSession.builder.appName(\"Example1\").getOrCreate()\n",
    "sc =  spark.sparkContext"
   ]
  },
  {
   "cell_type": "code",
   "execution_count": 0,
   "metadata": {
    "application/vnd.databricks.v1+cell": {
     "cellMetadata": {
      "byteLimit": 2048000,
      "rowLimit": 10000
     },
     "inputWidgets": {},
     "nuid": "50a23944-91db-4a7a-8a04-4969f3461c6a",
     "showTitle": false,
     "title": ""
    }
   },
   "outputs": [
    {
     "name": "stdout",
     "output_type": "stream",
     "text": [
      "[1, 2, 3, 4]\n",
      "<class 'pyspark.rdd.RDD'>\n",
      "4\n"
     ]
    }
   ],
   "source": [
    "numbers = sc.parallelize([1,2,3,4])\n",
    "n = type(numbers)\n",
    "result= numbers.collect()\n",
    "c = numbers.count()\n",
    "print(result)\n",
    "print(n)\n",
    "print(c)"
   ]
  },
  {
   "cell_type": "code",
   "execution_count": 0,
   "metadata": {
    "application/vnd.databricks.v1+cell": {
     "cellMetadata": {
      "byteLimit": 2048000,
      "rowLimit": 10000
     },
     "inputWidgets": {},
     "nuid": "d19e2406-2c42-4f28-874e-54533cc82fe7",
     "showTitle": false,
     "title": ""
    }
   },
   "outputs": [
    {
     "name": "stdout",
     "output_type": "stream",
     "text": [
      "1\n",
      "[1, 2, 3, 4]\n",
      "[1, 2, 3]\n"
     ]
    }
   ],
   "source": [
    "f = numbers.first()\n",
    "t = numbers.take(4)\n",
    "o = numbers.takeOrdered(3)\n",
    "print(f)\n",
    "print(t)\n",
    "print(o)"
   ]
  },
  {
   "cell_type": "code",
   "execution_count": 0,
   "metadata": {
    "application/vnd.databricks.v1+cell": {
     "cellMetadata": {},
     "inputWidgets": {},
     "nuid": "7736c2d1-cf2a-43d6-8581-66b9dc8bd3b9",
     "showTitle": false,
     "title": ""
    }
   },
   "outputs": [],
   "source": [
    "sample1 = sc.textFile('sample.txt')\n",
    "print(sample1)"
   ]
  },
  {
   "cell_type": "code",
   "execution_count": 0,
   "metadata": {
    "application/vnd.databricks.v1+cell": {
     "cellMetadata": {},
     "inputWidgets": {},
     "nuid": "e151b9c3-249b-4d71-a258-99ce18fa3aef",
     "showTitle": true,
     "title": "TRANSFORMATIONS"
    }
   },
   "outputs": [],
   "source": [
    "#THE JOB WILL BE INTIATED ONLY WHEN THE ACTIONS HAS BEEN TRIGGERED UNLESS THE ACTIONS NOT BE TRIGGERED  TRANSFORMATIONS THE RDDS WILL GET CREATED."
   ]
  },
  {
   "cell_type": "code",
   "execution_count": 0,
   "metadata": {
    "application/vnd.databricks.v1+cell": {
     "cellMetadata": {
      "byteLimit": 2048000,
      "rowLimit": 10000
     },
     "inputWidgets": {},
     "nuid": "e146b4be-a31e-4634-9df4-1625c474430d",
     "showTitle": false,
     "title": ""
    }
   },
   "outputs": [
    {
     "name": "stdout",
     "output_type": "stream",
     "text": [
      "[45, 66, 12, 23]\n",
      "[45, 66, 12, 23]\n"
     ]
    }
   ],
   "source": [
    "num = sc.parallelize([23,45,66,75,12])\n",
    "s = num.takeSample('True',4,seed = 5) # it will retrive different results\n",
    "l =num.takeSample('True',4,seed =5)\n",
    "print(l)\n",
    "print(s)"
   ]
  },
  {
   "cell_type": "markdown",
   "metadata": {
    "application/vnd.databricks.v1+cell": {
     "cellMetadata": {},
     "inputWidgets": {},
     "nuid": "8b424419-9083-4eef-82e9-6eba0e5bb566",
     "showTitle": false,
     "title": ""
    }
   },
   "source": [
    "GLOM\n",
    "\n",
    "\n",
    "\n",
    "CATEGORIZE THE RDDS INTO TUPLES\n"
   ]
  },
  {
   "cell_type": "code",
   "execution_count": 0,
   "metadata": {
    "application/vnd.databricks.v1+cell": {
     "cellMetadata": {
      "byteLimit": 2048000,
      "rowLimit": 10000
     },
     "inputWidgets": {},
     "nuid": "49c5ccc0-6804-40cb-a5ef-75aecc05152f",
     "showTitle": false,
     "title": ""
    }
   },
   "outputs": [
    {
     "data": {
      "text/plain": [
       "[[34], [5, 6], [12, 73]]"
      ]
     },
     "execution_count": 16,
     "metadata": {},
     "output_type": "execute_result"
    }
   ],
   "source": [
    "NUM1 = sc.parallelize([34,5,6,12,73],3)\n",
    "\n",
    "NUM1.glom().collect()\n"
   ]
  },
  {
   "cell_type": "code",
   "execution_count": 0,
   "metadata": {
    "application/vnd.databricks.v1+cell": {
     "cellMetadata": {
      "byteLimit": 2048000,
      "rowLimit": 10000
     },
     "inputWidgets": {},
     "nuid": "bdb64d0a-9b5a-44d9-b09e-ce19598a49a6",
     "showTitle": false,
     "title": ""
    }
   },
   "outputs": [
    {
     "name": "stdout",
     "output_type": "stream",
     "text": [
      "2\n"
     ]
    }
   ],
   "source": [
    "default_partitions = sc.defaultMinPartitions\n",
    "print(default_partitions)"
   ]
  },
  {
   "cell_type": "code",
   "execution_count": 0,
   "metadata": {
    "application/vnd.databricks.v1+cell": {
     "cellMetadata": {
      "byteLimit": 2048000,
      "rowLimit": 10000
     },
     "inputWidgets": {},
     "nuid": "a7754f8a-0a73-499e-82c4-a20d89aa2784",
     "showTitle": true,
     "title": "REDUCE AND FOLD"
    }
   },
   "outputs": [
    {
     "data": {
      "text/plain": [
       "10"
      ]
     },
     "execution_count": 21,
     "metadata": {},
     "output_type": "execute_result"
    }
   ],
   "source": [
    "num3 = sc.parallelize(range(1,5))\n",
    "#lambda --- A function with know name is called lambda \n",
    "num3.reduce(lambda x,y : x+y)"
   ]
  },
  {
   "cell_type": "code",
   "execution_count": 0,
   "metadata": {
    "application/vnd.databricks.v1+cell": {
     "cellMetadata": {
      "byteLimit": 2048000,
      "rowLimit": 10000
     },
     "inputWidgets": {},
     "nuid": "4a52c113-cd84-4f93-93b2-325ff4394ec3",
     "showTitle": false,
     "title": ""
    }
   },
   "outputs": [
    {
     "data": {
      "text/plain": [
       "15"
      ]
     },
     "execution_count": 25,
     "metadata": {},
     "output_type": "execute_result"
    }
   ],
   "source": [
    "num4 = sc.parallelize([2,4,1,5],2)\n",
    "num4.fold(1,lambda x,y : x+y)"
   ]
  },
  {
   "cell_type": "markdown",
   "metadata": {
    "application/vnd.databricks.v1+cell": {
     "cellMetadata": {},
     "inputWidgets": {},
     "nuid": "dd4949c2-f50a-4802-82df-b09dcee7962f",
     "showTitle": false,
     "title": ""
    }
   },
   "source": [
    "TRANSFORMATION\n",
    "\n"
   ]
  },
  {
   "cell_type": "code",
   "execution_count": 0,
   "metadata": {
    "application/vnd.databricks.v1+cell": {
     "cellMetadata": {
      "byteLimit": 2048000,
      "rowLimit": 10000
     },
     "inputWidgets": {},
     "nuid": "b28f94ba-44e0-46de-bb07-1a1503f02d19",
     "showTitle": true,
     "title": "MAP"
    }
   },
   "outputs": [
    {
     "data": {
      "text/plain": [
       "['Mr. anil', 'Mr. kirn', 'Mr. sathya', 'Mr. charn']"
      ]
     },
     "execution_count": 26,
     "metadata": {},
     "output_type": "execute_result"
    }
   ],
   "source": [
    "names = sc.parallelize(['anil','kirn','sathya','charn'])\n",
    "names.map(lambda x : 'Mr. '+x).collect()\n"
   ]
  },
  {
   "cell_type": "code",
   "execution_count": 0,
   "metadata": {
    "application/vnd.databricks.v1+cell": {
     "cellMetadata": {
      "byteLimit": 2048000,
      "rowLimit": 10000
     },
     "inputWidgets": {},
     "nuid": "d44beea2-485a-4684-9c52-122a7b3be559",
     "showTitle": false,
     "title": ""
    }
   },
   "outputs": [
    {
     "data": {
      "text/plain": [
       "['M',\n",
       " 'r',\n",
       " '.',\n",
       " ' ',\n",
       " 'a',\n",
       " 'n',\n",
       " 'i',\n",
       " 'l',\n",
       " 'M',\n",
       " 'r',\n",
       " '.',\n",
       " ' ',\n",
       " 'k',\n",
       " 'i',\n",
       " 'r',\n",
       " 'n',\n",
       " 'M',\n",
       " 'r',\n",
       " '.',\n",
       " ' ',\n",
       " 's',\n",
       " 'a',\n",
       " 't',\n",
       " 'h',\n",
       " 'y',\n",
       " 'a',\n",
       " 'M',\n",
       " 'r',\n",
       " '.',\n",
       " ' ',\n",
       " 'c',\n",
       " 'h',\n",
       " 'a',\n",
       " 'r',\n",
       " 'n']"
      ]
     },
     "execution_count": 27,
     "metadata": {},
     "output_type": "execute_result"
    }
   ],
   "source": [
    "names.flatMap(lambda x : 'Mr. '+x).collect()"
   ]
  },
  {
   "cell_type": "code",
   "execution_count": 0,
   "metadata": {
    "application/vnd.databricks.v1+cell": {
     "cellMetadata": {
      "byteLimit": 2048000,
      "rowLimit": 10000
     },
     "inputWidgets": {},
     "nuid": "269a09c5-c02b-47ef-9eda-d3168b9de571",
     "showTitle": false,
     "title": ""
    }
   },
   "outputs": [
    {
     "name": "stdout",
     "output_type": "stream",
     "text": [
      "[('anil', 67), ('kirn', 67), ('sathya', 67), ('charn', 67)]\n",
      "['anil', 67, 'kirn', 67, 'sathya', 67, 'charn', 67]\n"
     ]
    }
   ],
   "source": [
    "m = names.map(lambda x:(x,67)).collect()\n",
    "n = names.flatMap(lambda x:(x,67)).collect()\n",
    "print(m)\n",
    "print(n)"
   ]
  },
  {
   "cell_type": "code",
   "execution_count": 0,
   "metadata": {
    "application/vnd.databricks.v1+cell": {
     "cellMetadata": {
      "byteLimit": 2048000,
      "rowLimit": 10000
     },
     "inputWidgets": {},
     "nuid": "58948131-7d66-4de6-b466-1b11a0615eb3",
     "showTitle": true,
     "title": "filter"
    }
   },
   "outputs": [
    {
     "data": {
      "text/plain": [
       "[3, 4]"
      ]
     },
     "execution_count": 29,
     "metadata": {},
     "output_type": "execute_result"
    }
   ],
   "source": [
    "num3.filter(lambda x:x>2).collect()"
   ]
  },
  {
   "cell_type": "code",
   "execution_count": 0,
   "metadata": {
    "application/vnd.databricks.v1+cell": {
     "cellMetadata": {
      "byteLimit": 2048000,
      "rowLimit": 10000
     },
     "inputWidgets": {},
     "nuid": "71791061-2fe8-40f2-affa-d3e1624b5f27",
     "showTitle": true,
     "title": "union"
    }
   },
   "outputs": [
    {
     "data": {
      "text/plain": [
       "[1, 2, 3, 4, 2, 4, 1, 5]"
      ]
     },
     "execution_count": 31,
     "metadata": {},
     "output_type": "execute_result"
    }
   ],
   "source": [
    "num3.union(num4).collect()"
   ]
  },
  {
   "cell_type": "code",
   "execution_count": 0,
   "metadata": {
    "application/vnd.databricks.v1+cell": {
     "cellMetadata": {
      "byteLimit": 2048000,
      "rowLimit": 10000
     },
     "inputWidgets": {},
     "nuid": "8174a22f-88ee-4c22-b054-4479f6291119",
     "showTitle": true,
     "title": "INTERSECTION"
    }
   },
   "outputs": [
    {
     "data": {
      "text/plain": [
       "[1, 2, 4]"
      ]
     },
     "execution_count": 32,
     "metadata": {},
     "output_type": "execute_result"
    }
   ],
   "source": [
    "num3.intersection(num4).collect()"
   ]
  },
  {
   "cell_type": "code",
   "execution_count": 0,
   "metadata": {
    "application/vnd.databricks.v1+cell": {
     "cellMetadata": {
      "byteLimit": 2048000,
      "rowLimit": 10000
     },
     "inputWidgets": {},
     "nuid": "5bc1bbb3-35e3-483e-bc09-94535d4237a0",
     "showTitle": true,
     "title": "REDUCEBYKEY"
    }
   },
   "outputs": [
    {
     "data": {
      "text/plain": [
       "[(1, 2), (3, 3), (4, 5), (6, 7)]"
      ]
     },
     "execution_count": 50,
     "metadata": {},
     "output_type": "execute_result"
    }
   ],
   "source": [
    "integers = sc.parallelize([(1,2),(3,3),(4,5),(6,7)])\n",
    "integers.reduceByKey(lambda x,y : x>2).collect()"
   ]
  },
  {
   "cell_type": "code",
   "execution_count": 0,
   "metadata": {
    "application/vnd.databricks.v1+cell": {
     "cellMetadata": {
      "byteLimit": 2048000,
      "rowLimit": 10000
     },
     "inputWidgets": {},
     "nuid": "d3feb1fe-820e-42f6-9b56-4b59c70cfee0",
     "showTitle": true,
     "title": "GROUPBY"
    }
   },
   "outputs": [
    {
     "name": "stdout",
     "output_type": "stream",
     "text": [
      "1 [2]\n",
      "3 [4]\n",
      "4 [5]\n",
      "6 [7]\n"
     ]
    }
   ],
   "source": [
    "s =integers.groupByKey().collect()\n",
    "for k,v in s:\n",
    "    print(k,list(v))\n",
    "\n"
   ]
  },
  {
   "cell_type": "code",
   "execution_count": 0,
   "metadata": {
    "application/vnd.databricks.v1+cell": {
     "cellMetadata": {
      "byteLimit": 2048000,
      "rowLimit": 10000
     },
     "inputWidgets": {},
     "nuid": "e6d3d130-58bd-49e6-b1bf-bed7b0ba65a6",
     "showTitle": false,
     "title": ""
    }
   },
   "outputs": [
    {
     "data": {
      "text/plain": [
       "[(1, 2), (3, 4), (4, 5), (6, 7)]"
      ]
     },
     "execution_count": 42,
     "metadata": {},
     "output_type": "execute_result"
    }
   ],
   "source": [
    "result = integers.groupByKey().mapValues(max)\n",
    "result.collect()"
   ]
  }
 ],
 "metadata": {
  "application/vnd.databricks.v1+notebook": {
   "dashboards": [],
   "environmentMetadata": null,
   "language": "python",
   "notebookMetadata": {
    "pythonIndentUnit": 4
   },
   "notebookName": "Untitled Notebook 2024-10-14 10:48:45",
   "widgets": {}
  },
  "language_info": {
   "name": "python"
  }
 },
 "nbformat": 4,
 "nbformat_minor": 0
}
